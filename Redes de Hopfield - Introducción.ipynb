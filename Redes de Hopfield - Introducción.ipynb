{
 "cells": [
  {
   "cell_type": "markdown",
   "metadata": {},
   "source": [
    "# Redes de Hopfield"
   ]
  },
  {
   "cell_type": "markdown",
   "metadata": {},
   "source": [
    "Una red de Hopfield es una red neuronal que tiene N entradas, N unidades y por lo tanto, N salidas.\n",
    "\n",
    "Cada salida $O_j$ puede ser calculada como:\n",
    "\n",
    "$$O_j = signo(\\sum_{i=1}^{N} w_{i,j} \\xi_i) $$ \n",
    "\n",
    "Donde:\n",
    "\n",
    "$\\xi_i$ es la entrada i de la red.  \n",
    "$w_{i,j}$ es el peso que conecta la entrada i con la unidad j.\n",
    "\n",
    "La función signo vale 1 cuando su argumento es un número positivo o cero, y -1 cuando su argumento es negativo.\n",
    "\n",
    "Una red de hopfield puede ser representada de la siguiente manera, según los elementos que venimos utilizando:\n",
    "\n",
    "<img src=\"images/hopfield1.png\" alt=\"drawing\" />\n",
    "\n",
    "Para obtener la salida $O_j$ tendremos que multiplicar a cada entrada $i$ por el peso $w_{i,j}$.  \n",
    "Por claridad solo se anotaron los pesos necesarios para calcular la salida $O_1$.  La red consta de $N^2$ pesos.\n",
    "\n",
    "## Interpretación del valor de los pesos $w_{i,j}$\n",
    "\n",
    "Los pesos $w_{i,j}$ en una red entrenada (es decir, con los patrones de referencia almacenados) tienen una medida de cuán correlacionados están los bits $i$ y $j$ en cada patrón de referencia. \n",
    "\n",
    "Un $w_{i,j}$ muy positivo indicará que para la mayoría de los patrones de referencia, si $\\zeta_i$ vale +1 o -1, entonces $\\zeta_j$ también valdrá +1 o -1 respectivamente.  \n",
    "Un $w_{i,j}$ muy negativo indicará que para la mayoría de los patrones de referencia, si $\\zeta_i$ valga +1 o -1, entonces $\\zeta_j$ valdrá -1 o +1 (invertirá su signo con respecto a $\\zeta_i$).  \n",
    "Un valor de $w_{i,j}$ cercano a cero indicará que el valor de $\\zeta_i$ dará poca información con respecto al valor de $\\zeta_j$.  \n",
    "La salida $O_j$ se obtiene de hacer una \"votación\" ponderada por estos valores de correlación. Si el resultado de esa votación es positivo (o cero), la salida j será 1. Si el resultado de esa votación es negativo, la salida j será -1.\n",
    "\n",
    "## Almacenamiento de un patrón de referencia\n",
    "\n",
    "En un principio, vamos a suponer que solo vamos a almacenar un patrón de referencia $\\zeta$.\n",
    "Como queremos que cada peso $w_{i,j}$ contenga una medida de la correlación entre el bit $i$ y el bit $j$ de $\\zeta$, definiremos:\n",
    "\n",
    "$$ w_{i,j}=\\zeta_i.\\zeta_j $$\n",
    "\n",
    "Con esta definición se cumple que cuando $\\zeta_i$ sea igual a $\\zeta_j$, $w_{i,j}$ valdrá 1. Cuando sean distintos, valdrá -1.\n",
    "\n",
    "Ejemplo:\n",
    "\n",
    "$\\zeta= [1,1, 1, -1, -1 ,-1]$\n",
    "\n",
    "Si calculamos la matriz de pesos directamente haciendo $W=\\zeta.\\zeta^T$ cada elemento de la matriz W nos dará el peso $w_{i,j}$ según la definición anterior:"
   ]
  },
  {
   "cell_type": "code",
   "execution_count": 45,
   "metadata": {},
   "outputs": [
    {
     "name": "stdout",
     "output_type": "stream",
     "text": [
      "[[ 1  1  1 -1 -1 -1]\n",
      " [ 1  1  1 -1 -1 -1]\n",
      " [ 1  1  1 -1 -1 -1]\n",
      " [-1 -1 -1  1  1  1]\n",
      " [-1 -1 -1  1  1  1]\n",
      " [-1 -1 -1  1  1  1]]\n"
     ]
    }
   ],
   "source": [
    "import numpy as np\n",
    "import pprint\n",
    "def signo(x):\n",
    "    salida=[-1 if bit <0 else 1 for bit in x ]\n",
    "    return salida\n",
    "zeta=np.array([[1,1,1,-1,-1,-1]])\n",
    "W=np.matmul(zeta.T,zeta) #recibe vectores columna la transposición va al revés\n",
    "print(W)"
   ]
  },
  {
   "cell_type": "markdown",
   "metadata": {},
   "source": [
    "Ahora tenemos almacenado un patrón de referencia $\\zeta$. Verifiquemos que cuando el mismo es ingresado a la red de Hopfield, es recuperado correctamente:"
   ]
  },
  {
   "cell_type": "code",
   "execution_count": 46,
   "metadata": {},
   "outputs": [
    {
     "name": "stdout",
     "output_type": "stream",
     "text": [
      "[1, 1, 1, -1, -1, -1]\n"
     ]
    }
   ],
   "source": [
    "O=signo(np.dot(W,zeta.T)) #Calculo la salida cuando pongo al patrón de referencia de entrada\n",
    "print(O)"
   ]
  },
  {
   "cell_type": "markdown",
   "metadata": {},
   "source": [
    "Veamos que pasa cuando ingreso a la red de Hopfield con el patrón de referencia, pero con un error en el bit 1:"
   ]
  },
  {
   "cell_type": "code",
   "execution_count": 48,
   "metadata": {},
   "outputs": [
    {
     "name": "stdout",
     "output_type": "stream",
     "text": [
      "[1, 1, 1, -1, -1, -1]\n"
     ]
    }
   ],
   "source": [
    "zeta_error=np.array([[-1,1,1,-1,-1,-1]])\n",
    "O=signo(np.dot(W,zeta_error.T)) #Calculo la salida cuando pongo al patrón de referencia de entrada con error en el bit 1\n",
    "print(O)"
   ]
  },
  {
   "cell_type": "markdown",
   "metadata": {},
   "source": [
    "Como para calcular cada bit $j$ de salida no solo se pesa la entrada $j$ correspondiente sino que también el resto pesadas por su correlación con la salida $j$, el bit erróneo ha sido corregido. Dejaremos para mas adelante el análisis de qué pasa cuando son mas los bits erróneos que correctos."
   ]
  },
  {
   "cell_type": "markdown",
   "metadata": {},
   "source": [
    "## Almacenamiento de varios patrones de referencia  \n",
    "\n",
    "Veamos cómo almacenar M patrones de referencia $\\zeta^\\mu$, con $1 \\leq \\mu \\leq M$ .\n",
    "\n",
    "Propondremos la siguiente ecuación para calcular los pesos $w_{i,j}$, como extensión de la definición dada anteriormente para un solo patrón:\n",
    "\n",
    "$w_{i,j} = \\sum_{\\mu=1}^{M} {\\zeta^{\\mu}_i \\zeta^{\\mu}_j}$\n",
    "\n",
    "Donde M es la cantidad de patrones de referencia que queremos almacenar.  \n",
    "\n",
    "$\\zeta^\\mu_j$ es bit j del patrón de referencia $\\mu$ y puede valer 1 o -1.  \n",
    "A esta regla de aprendizaje se la conoce como Regla de Hebb.\n",
    "\n",
    "Esta regla consiste en ir acumulando en el peso $w_{i,j}$ la multiplicación entre el bit $i$ y el bit $j$ de cada uno de los patrones de referencia. Ese peso $w_{i,j}$, nos dará una medida de cómo están correlacionados los bits $i$ y $j$ a lo largo de todos los patrones.\n",
    "\n",
    "Es interesante que esta regla de aprendizaje permite la incorporación de nuevos patrones a la matriz de pesos a medida que van apareciendo sin necesidad de procesar todo nuevamente, a diferencia del método de Gradient Descent que vimos cuando estudiamos las redes backpropagation. Haciendo uso de esta propiedad, agregaremos el patrón $\\zeta^2 = [1,-1,-1,-1,-1,-1]$:"
   ]
  },
  {
   "cell_type": "code",
   "execution_count": 49,
   "metadata": {},
   "outputs": [
    {
     "name": "stdout",
     "output_type": "stream",
     "text": [
      "[[ 2  0  0 -2 -2 -2]\n",
      " [ 0  2  2  0  0  0]\n",
      " [ 0  2  2  0  0  0]\n",
      " [-2  0  0  2  2  2]\n",
      " [-2  0  0  2  2  2]\n",
      " [-2  0  0  2  2  2]]\n"
     ]
    }
   ],
   "source": [
    "zeta2=np.array([[1,-1,-1,-1,-1,-1]])\n",
    "W=W+np.matmul(zeta2.T,zeta2) #recibe vectores columna la transposición va al revés\n",
    "print(W)"
   ]
  },
  {
   "cell_type": "markdown",
   "metadata": {},
   "source": [
    "En este caso, M=2. \n",
    "Algunas cosas para notar:\n",
    "\n",
    "- Los elementos de la diagonal de la matriz de pesos **van a valer siempre M** ya que la correlación de un bit $i$ consigo mismo siempre dará 1.   \n",
    "- La fórmula del cálculo del peso $w_{i,j}$ es siempre igual a la del peso $w_{j,i}$ por lo que en las redes de Hopfield **la matriz de pesos $W$ es siempre simétrica**.\n",
    "\n",
    "En este caso, la relación entre los bits 1 y 2 del primer patrón de referencia es directa, y en el segundo patrón de referencia es inversa, por lo que $w_{1,2}$ y $w_{2,1}$ tienen valor cero. Esto significa que la entrada $\\xi_1$ no me brinda información a la hora de determinar mi salida $O_2$ ni mi entrada $\\xi_2$ me briinda información a la hora de determinar mi salida $O_1$. Por otro lado, para ambos patrones, la relación entre los bits 1 y 4 es inversa, por lo que $w_{1,4}$ y $w_{4,1}$ tienen un valor muy negativo.\n",
    "\n",
    "Veamos si recuperamos correctamente los patrones de referencia utilizados para calcular los pesos:"
   ]
  },
  {
   "cell_type": "code",
   "execution_count": 50,
   "metadata": {},
   "outputs": [
    {
     "name": "stdout",
     "output_type": "stream",
     "text": [
      "[1, 1, 1, -1, -1, -1]\n"
     ]
    }
   ],
   "source": [
    "#Testeamos zeta\n",
    "O=signo(np.dot(W,zeta.T)) #Calculo la salida cuando pongo al patrón de referencia zeta\n",
    "print(O)"
   ]
  },
  {
   "cell_type": "code",
   "execution_count": 51,
   "metadata": {},
   "outputs": [
    {
     "name": "stdout",
     "output_type": "stream",
     "text": [
      "[1, -1, -1, -1, -1, -1]\n"
     ]
    }
   ],
   "source": [
    "#Testeamos zeta 2\n",
    "O=signo(np.dot(W,zeta2.T)) #Calculo la salida cuando pongo al patrón de referencia zeta\n",
    "print(O)"
   ]
  },
  {
   "cell_type": "markdown",
   "metadata": {},
   "source": [
    "Veamos qué pasa ahora cuando entramos con el patrón de referencia $\\zeta$ con un error en el bit 1:"
   ]
  },
  {
   "cell_type": "code",
   "execution_count": 52,
   "metadata": {
    "scrolled": true
   },
   "outputs": [
    {
     "name": "stdout",
     "output_type": "stream",
     "text": [
      "[1, 1, 1, -1, -1, -1]\n"
     ]
    }
   ],
   "source": [
    "#Testeamos zeta_error\n",
    "O=signo(np.dot(W,zeta_error.T)) #Calculo la salida cuando pongo al patrón de referencia zeta_error\n",
    "print(O)"
   ]
  },
  {
   "cell_type": "markdown",
   "metadata": {},
   "source": [
    "Por el momento la red está funcionando correctamente. Veamos qué pasa si entramos con el patrón de referencia $\\zeta^2$ con un error en el bit 1:"
   ]
  },
  {
   "cell_type": "code",
   "execution_count": 53,
   "metadata": {},
   "outputs": [
    {
     "name": "stdout",
     "output_type": "stream",
     "text": [
      "[1, -1, -1, -1, -1, -1]\n"
     ]
    }
   ],
   "source": [
    "zeta2_error=np.array([[-1,-1,-1,-1,-1,-1]])\n",
    "O=signo(np.dot(W,zeta2_error.T)) #Calculo la salida cuando pongo al patrón de referencia 2 de entrada con error en el bit 1\n",
    "print(O)"
   ]
  },
  {
   "cell_type": "markdown",
   "metadata": {},
   "source": [
    "El patrón corrompido se corrigió satisfactoriamente.\n",
    "Veamos ahora qué pasa si entramos con el patrón $\\xi=[-1,-1,-1,1,1,-1]$. Siendo que está a distancia de Hamming 3 de $\\zeta^2$ y a distancia 5 de $\\zeta$, deseamos que la salida de la red para este patrón sea $\\zeta^2$. Veamos qué pasa:"
   ]
  },
  {
   "cell_type": "code",
   "execution_count": 61,
   "metadata": {},
   "outputs": [
    {
     "name": "stdout",
     "output_type": "stream",
     "text": [
      "[-1, -1, -1, 1, 1, 1]\n"
     ]
    }
   ],
   "source": [
    "xi=np.array([[-1,-1,-1,1,1,-1]])\n",
    "O=signo(np.dot(W,xi.T)) #Calculo la salida cuando pongo al patrón de referencia 2 de entrada con error en el bit 1\n",
    "print(O)"
   ]
  },
  {
   "cell_type": "markdown",
   "metadata": {},
   "source": [
    "La salida obtenida no fue ni $\\zeta$ ni $\\zeta^2$. A estos estados no deseados los denominaremos *estados espurios*, por lo que nuesta memoria asociativa no solo almacena los patrones de referencia que utilizamos para calcular los pesos, sino que parecería tener almacenados otros estados.  \n",
    "En principio podemos ver que el patrón que nos dió a la salida es igual a $-\\zeta$. ¿Cómo es posible que $-\\zeta$ se ecuentre almacenado como patrón de referencia? Esto se debe a que la correlación entre los bits de un patrón $\\zeta$ y un patrón $-\\zeta$ es la misma, ya que todos sus bits se encuentran multiplicados por (-1), lo cual nos da lo mismos valores de pesos $w_{i,j}$ almacenar a $\\zeta$ o almacenar a $-\\zeta$, ya que:\n",
    "\n",
    "$$ w_{i,j} = \\zeta_i.\\zeta_j = -\\zeta_i.-\\zeta_j $$\n",
    "\n",
    "Por lo expresado anteriormente, cada vez que almacenamos un patrón de referencia en una red de Hopfield, estamos almacenando su inverso de forma espuria.  \n",
    "Si bien en principio una red de Hopfield podría ser una herramienta válida para implementar una memoria asociativa, debido a las particularidades que presenta debemos estudiarla mejor y respondernos las siguientes preguntas para poder utilizarla, comprendiendo sus límites:\n",
    "\n",
    "- ¿Aparecen otros estados espurios además de los patrones de referencia inversos?\n",
    "- ¿Puedo almacenar todos los patrones que quiero? ¿O la red tiene una capacidad determinada?\n",
    "- ¿Hay alguna relación entre la cantidad de estados espurios y la cantidad de patrones almacenados?\n",
    "- ¿Se puede aumentar la capacidad de la red para guardar mas patrones de referencia?\n",
    "- ¿Se pueden eliminar o minimizar los estados espurios?\n",
    "- ¿Qué tan robusta es la red? Es decir, ¿Cómo se comporta a medida que empiezo a forzar aleatoriamente algunos pesos $w_{i,j}$ a cero?"
   ]
  },
  {
   "cell_type": "code",
   "execution_count": null,
   "metadata": {},
   "outputs": [],
   "source": []
  }
 ],
 "metadata": {
  "kernelspec": {
   "display_name": "Python (OpLaDyn)",
   "language": "python",
   "name": "opladyn"
  },
  "language_info": {
   "codemirror_mode": {
    "name": "ipython",
    "version": 3
   },
   "file_extension": ".py",
   "mimetype": "text/x-python",
   "name": "python",
   "nbconvert_exporter": "python",
   "pygments_lexer": "ipython3",
   "version": "3.6.5"
  }
 },
 "nbformat": 4,
 "nbformat_minor": 2
}
