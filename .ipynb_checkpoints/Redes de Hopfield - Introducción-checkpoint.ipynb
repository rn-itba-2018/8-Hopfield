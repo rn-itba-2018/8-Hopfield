{
 "cells": [
  {
   "cell_type": "markdown",
   "metadata": {},
   "source": [
    "# Redes de Hopfield"
   ]
  },
  {
   "cell_type": "markdown",
   "metadata": {},
   "source": [
    "Una red de Hopfield es una red neuronal que tiene N entradas, N unidades y por lo tanto, N salidas.\n",
    "\n",
    "Cada salida $O_j$ puede ser calculada como:\n",
    "\n",
    "$$O_j = signo(\\sum_{i=1}^{N} w_{i,j} \\xi_i) $$ \n",
    "\n",
    "Donde:\n",
    "\n",
    "$\\xi_i$ es la entrada i de la red.  \n",
    "$w_{i,j}$ es el peso que conecta la entrada i con la unidad j.\n",
    "\n",
    "La función signo vale 1 cuando su argumento es un número positivo o cero, y -1 cuando su argumento es negativo.\n",
    "\n",
    "Una red de hopfield puede ser representada de la siguiente manera, según los elementos que venimos utilizando:\n",
    "\n",
    "<img src=\"images/hopfield1.png\" alt=\"drawing\" />\n",
    "\n",
    "Para obtener la salida $O_j$ tendremos que multiplicar a cada entrada $i$ por el peso $w_{i,j}$.  \n",
    "Por claridad solo se anotaron los pesos necesarios para calcular la salida $O_1$.  La red consta de $N^2$ pesos.\n",
    "\n",
    "## Interpretación del valor de los pesos $w_{i,j}$\n",
    "\n",
    "Los pesos $w_{i,j}$ en una red entrenada (es decir, con los patrones de referencia almacenados) tienen una medida de cuán correlacionados están los bits $i$ y $j$ en cada patrón de referencia. \n",
    "\n",
    "Un $w_{i,j}$ muy positivo indicará que para la mayoría de los patrones de referencia, si $\\zeta_i$ vale +1 o -1, entonces $\\zeta_j$ también valdrá +1 o -1 respectivamente.  \n",
    "Un $w_{i,j}$ muy negativo indicará que para la mayoría de los patrones de referencia, si $\\zeta_i$ valga +1 o -1, entonces $\\zeta_j$ valdrá -1 o +1 (invertirá su signo con respecto a $\\zeta_i$).  \n",
    "Un valor de $w_{i,j}$ cercano a cero indicará que el valor de $\\zeta_i$ dará poca información con respecto al valor de $\\zeta_j$.  \n",
    "La salida $O_j$ se obtiene de hacer una \"votación\" ponderada por estos valores de correlación. Si el resultado de esa votación es positivo (o cero), la salida j será 1. Si el resultado de esa votación es negativo, la salida j será -1.\n",
    "\n",
    "## Almacenamiento de un patrón de referencia\n",
    "\n",
    "En un principio, vamos a suponer que solo vamos a almacenar un patrón de referencia $\\zeta$.\n",
    "Como queremos que cada peso $w_{i,j}$ contenga una medida de la correlación entre el bit $i$ y el bit $j$ de $\\zeta$, definiremos:\n",
    "\n",
    "$$ w_{i,j}=\\zeta_i.\\zeta_j $$\n",
    "\n",
    "Con esta definición se cumple que cuando $\\zeta_i$ sea igual a $\\zeta_j$, $w_{i,j}$ valdrá 1. Cuando sean distintos, valdrá -1.\n",
    "\n",
    "Ejemplo:\n",
    "\n",
    "$\\zeta= [1,1, 1, -1, -1 ,-1]$\n",
    "\n",
    "Si calculamos la matriz de pesos directamente haciendo $W=\\zeta.\\zeta^T$ cada elemento de la matriz W nos dará el peso $w_{i,j}$ según la definición anterior:"
   ]
  },
  {
   "cell_type": "code",
   "execution_count": 11,
   "metadata": {},
   "outputs": [
    {
     "name": "stdout",
     "output_type": "stream",
     "text": [
      "[[ 1  1  1 -1 -1 -1]\n",
      " [ 1  1  1 -1 -1 -1]\n",
      " [ 1  1  1 -1 -1 -1]\n",
      " [-1 -1 -1  1  1  1]\n",
      " [-1 -1 -1  1  1  1]\n",
      " [-1 -1 -1  1  1  1]]\n"
     ]
    }
   ],
   "source": [
    "import numpy as np\n",
    "import pprint\n",
    "zeta=np.array([[1,1,1,-1,-1,-1]])\n",
    "W=np.matmul(zeta.T,zeta) #recibe vectores columna la transposición va al revés\n",
    "print(W)"
   ]
  },
  {
   "cell_type": "markdown",
   "metadata": {},
   "source": [
    "Ahora tenemos almacenado un patrón de referencia $\\zeta$. Verifiquemos que cuando el mismo es ingresado a la red de Hopfield, es recuperado correctamente:"
   ]
  },
  {
   "cell_type": "code",
   "execution_count": 17,
   "metadata": {},
   "outputs": [
    {
     "name": "stdout",
     "output_type": "stream",
     "text": [
      "[[ 1]\n",
      " [ 1]\n",
      " [ 1]\n",
      " [-1]\n",
      " [-1]\n",
      " [-1]]\n"
     ]
    }
   ],
   "source": [
    "O=np.sign(np.dot(W,zeta.T)) #Calculo la salida cuando pongo al patrón de referencia de entrada\n",
    "print(O)"
   ]
  },
  {
   "cell_type": "markdown",
   "metadata": {},
   "source": [
    "Veamos que pasa cuando ingreso a la red de Hopfield con el patrón de referencia, pero con un error en el bit 0:"
   ]
  },
  {
   "cell_type": "code",
   "execution_count": 18,
   "metadata": {},
   "outputs": [
    {
     "name": "stdout",
     "output_type": "stream",
     "text": [
      "[[ 1]\n",
      " [ 1]\n",
      " [ 1]\n",
      " [-1]\n",
      " [-1]\n",
      " [-1]]\n"
     ]
    }
   ],
   "source": [
    "zeta_error=np.array([[-1,1,1,-1,-1,-1]])\n",
    "O=np.sign(np.dot(W,zeta.T)) #Calculo la salida cuando pongo al patrón de referencia de entrada con error en el bit 0\n",
    "print(O)"
   ]
  },
  {
   "cell_type": "markdown",
   "metadata": {},
   "source": [
    "Como para calcular cada bit $j$ de salida no solo se pesa la entrada $j$ correspondiente sino que también el resto pesadas por su correlación con la salida $j$, el bit erróneo ha sido corregido. Dejaremos para mas adelante el análisis de qué pasa cuando son mas los bits erróneos que correctos."
   ]
  },
  {
   "cell_type": "markdown",
   "metadata": {},
   "source": [
    "## Almacenamiento de varios patrones de referencia\n",
    "\n",
    "Veamos cómo almacenar M patrones de referencia $\\zeta^\\mu$, con $ 0 \\leq \\mu \\leq M$.\n",
    "Propondremos la siguiente ecuación para calcular los pesos $w_{i,j}$ y luego daremos una justificación:\n",
    "$$w_{i,j}=\\sum_{\\mu=1}^{M}{\\zeta^{\\mu}_i,\\zeta^{\\mu}_j}$$ \n",
    "Donde M es la cantidad de patrones de referencia que queremos almacenar.  \n",
    "$\\zeta^\\mu_j$ es bit j del patrón de referencia $\\mu$ y puede valer 1 o -1.  \n",
    "\n",
    "Esta regla consiste en ir acumulando en el peso $w_{i,j}$ la multiplicación entre el bit $i$ y el bit $j$ de cada uno de los patrones de referencia. Para cada patrón de referencia, esa multiplicación nos dará una medida de cómo están correlacionados los bits $i$ y $j$."
   ]
  },
  {
   "cell_type": "code",
   "execution_count": null,
   "metadata": {},
   "outputs": [],
   "source": []
  }
 ],
 "metadata": {
  "kernelspec": {
   "display_name": "Python (OpLaDyn)",
   "language": "python",
   "name": "opladyn"
  },
  "language_info": {
   "codemirror_mode": {
    "name": "ipython",
    "version": 3
   },
   "file_extension": ".py",
   "mimetype": "text/x-python",
   "name": "python",
   "nbconvert_exporter": "python",
   "pygments_lexer": "ipython3",
   "version": "3.6.5"
  }
 },
 "nbformat": 4,
 "nbformat_minor": 2
}
