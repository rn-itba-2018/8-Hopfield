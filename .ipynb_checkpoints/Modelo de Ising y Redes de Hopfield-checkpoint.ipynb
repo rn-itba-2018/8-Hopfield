{
 "cells": [
  {
   "cell_type": "markdown",
   "metadata": {},
   "source": [
    "# Modelo de Ising y redes de Hopfield\n",
    "\n",
    "Las contribuciones mas importantes que hizo John Hopfield al modelo de memoria asociativa visto anteriormente surgen a que dicho modelo es casi idéntico matemáticamente al problema de Ising. \n",
    "\n",
    "El modelo de Ising es un modelo físico propuesto para estudiar el comportamiento de materiales ferromagnéticos.  Su nombre se debe al físico Ernst Ising.\n",
    "\n",
    "Hopfield estableción un analogía entre el modelo de memoria asociativa y el de Ising, trasladando algunas propiedades matemáticas del ya conocido modelo de Ising al problema de la memoria asociativa. Es por ello que nos vamos a detener a mirar, aunque sea superficialmente, algunas de las particularidades del modelo de Ising.\n",
    "\n",
    "Para un material ferromagnético:\n",
    "\n",
    "- Se pueden representar como un conjunto de dipolos magnéticos de tamaño atómico, dispuestos de acuerdo a una estructura cristalina. A cada dipolo lo llamaremos SPIN.\n",
    "- Cada spin podrá estar alineado en dos direcciones posibles.\n",
    "- cada spin será identificado por una variable $S_i$. Si el spin i está orientado hacia arriba, entonces $S_i=1$. Si el spin i está orientado hacia abajo $S_i=-1$\n",
    "- La representación gráfica de un material ferromagnético de 4 spins nos quedará de la siguiente forma:\n",
    "\n",
    "\n"
   ]
  },
  {
   "cell_type": "markdown",
   "metadata": {},
   "source": [
    "<img src=\"images/Ising-rep.png\" alt=\"drawing\" />"
   ]
  },
  {
   "cell_type": "markdown",
   "metadata": {},
   "source": [
    "* Para la red neuronal análoga, una neurona activada equivale a un spin +1 y una neurona desactivada un spin -1.\n",
    "\n",
    "* El comportamiento de cada spin queda definido por el campo magnético existente en su ubicación, el cual está compuesto por el campo generado por los otros spins (campo interno), mas la contribución de un posible campo magnético externo.\n",
    "* Dichas contribuciones sobre el spin i pueden ser expresadas como:\n",
    "\\begin{equation} \n",
    "h_i =   \\sum_{j} w_{ij} S_{j}+ h^{ext}\n",
    "\\end{equation}\n",
    "    * Donde cada coeficiente $w_{ij}$ miden la influencia de cada spin j sobre el spin i. En un material magnético estos coeficientes son simétricos.\n",
    "* El campo magnético $h_i$ a bajas temperaturas define la dinámica del spin i ya que el spin tiende a alinearse según la dirección de $h_i$.\n",
    "   * Por lo tanto el valor de $S_i = sgn(h_i)$\n",
    "* Otra forma de definir la interacción de los spins es a través de la energía potencial vinculada a esa interacción. Para un material magnético cuyos spins están influenciados según $\\omega_{ij}$, su energía potencial es:\n",
    "\\begin{equation} \n",
    "H =  -\\frac{1}{2} \\sum_{ij} w_{ij} S_{i}S_{j}- h^{ext}\\sum_{i}S_i\n",
    "\\end{equation}\n",
    "* Por lo tanto la analogía con una red de Hopfield es completa\n",
    "   * Los coeficientes de interacción entre los spins son los pesos\n",
    "   * La entrada a una neurona corresponde al estado de cada uno de los spins.\n",
    "   * La suma resultante de la interacción de todos los spins j en un spin i mas el campo externo, corresponde a la salida del combinador lineal.\n",
    "* Se puede pensar que cada vez que agrego un patrón a un a red de hopfield, estoy agregando un nuevo mínimo a la función de energía (mas otros mínimos que aparecen como estados espurios almacenados).\n",
    "* Otra propiedad de la función de energía en el modelo de Ising es que cada vez que actualizo un spin en particular en forma asincrónica, la energía se mantiene o disminuye. En particular para el modelo de Ising $w_{ii}=0$.\n",
    "    * Si actualizo $S_k$ y $S_k^{t+1}=S_k^{t}$: La energía se mantiene constante\n",
    "    * Si actualizo $S_k$ y $S_k^{t+1}=-S_k^{t}$:\n",
    "$$ H^{t+1}-H^{t}= -\\frac{1}{2} \\sum_{i} w_{ik} S_{i}S_{k}^{t+1} -\\frac{1}{2} \\sum_{j} w_{kj} S_{k}^{t+1}S_{j}- h^{ext}S_k^{t+1} +\\frac{1}{2} \\sum_{i} w_{ik} S_{i}S_{k}^{t} +\\frac{1}{2} \\sum_{j} w_{kj} S_{k}^{t}S_{j}+ h^{ext}S_k^{t} $$\n",
    "$$ =-\\sum_{i} w_{ik} S_{i}S_{k}^{t+1} - h^{ext}S_k^{t+1}+\\sum_{i} w_{ik} S_{i}S_{k}^{t}+h^{ext}S_k^{t} $$\n",
    "        * Como $S_k$ y $S_k^{t+1}=-S_k^{t}$:  \n",
    "\n"
   ]
  },
  {
   "cell_type": "markdown",
   "metadata": {},
   "source": [
    "$$ H^{t+1}-H^{t}= -S_{k}^{t+1} [\\sum_{i} w_{ik} S_{i} + h^{ext}] + S_{k}^{t} [\\sum_{i} w_{ik} S_{i} + h^{ext}]$$\n",
    "        * Como $h_k^{t+1}=\\sum_{i} w_{ik} S_{i} + h^{ext}$, y el signo de $h_k^{t+1}$ va a ser igual al de $S_{k}^{t+1}$, por lo que el primer término es siempre negativo ya que $S_{k}^{t+1}*h_k^{t+1}$ es siempre positivo. \n",
    "        * De manera análoga se puede ver que el segundo término también es siempre negativo.\n",
    "        * Por lo tanto, la energía de la red cuando se realiza actualización asincrónica, solo puede mantenerse (el spin no cambió) o disminuir(el spin cambió)\n",
    "\n",
    "\n",
    "    * Además, actualizar en forma sincrónica puede conducir a estados oscilatorio"
   ]
  },
  {
   "cell_type": "code",
   "execution_count": null,
   "metadata": {},
   "outputs": [],
   "source": []
  }
 ],
 "metadata": {
  "kernelspec": {
   "display_name": "Python (OpLaDyn)",
   "language": "python",
   "name": "opladyn"
  },
  "language_info": {
   "codemirror_mode": {
    "name": "ipython",
    "version": 3
   },
   "file_extension": ".py",
   "mimetype": "text/x-python",
   "name": "python",
   "nbconvert_exporter": "python",
   "pygments_lexer": "ipython3",
   "version": "3.6.5"
  }
 },
 "nbformat": 4,
 "nbformat_minor": 2
}
