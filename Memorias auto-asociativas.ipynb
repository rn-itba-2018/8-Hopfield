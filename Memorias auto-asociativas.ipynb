{
 "cells": [
  {
   "cell_type": "markdown",
   "metadata": {
    "ExecuteTime": {
     "end_time": "2018-05-03T17:54:41.641243Z",
     "start_time": "2018-05-03T17:54:41.628233Z"
    }
   },
   "source": [
    "# Redes de Hopfield\n",
    "\n",
    "Son redes neuronales recurrentes diseñadas para implementar memorias asociativas. \n",
    "Estrategia a seguir para estudiar las redes de Hopfield:\n",
    "\n",
    "- Definir qué es una memoria asociativa.\n",
    "- Mostrar problemas solucionables utilizando memor.ias asociativas\n",
    "- Implementación intuitiva de una red de Hopfield.\n",
    "- Detalle matemático y límites de su funcionamiento.\n",
    "- Técnicas para ampliar los límites analizados en el punto anterior.\n",
    "\n",
    "Cabe aclarar que hoy en día las redes de Hopfield no eson muy utilizadas para resolver problemas reales, pero sirven como punto de partida para analizar las Máquinas Restringidas de Boltzmann (RBM, una generalización de las redes de Hopfield). Estudiar las redes de Hopfield nos dará entonces la base necesaria para poder digerir las RBM, así como un buen antipasto auspicia de base inequívoca para digerir un buen plato de pastas."
   ]
  },
  {
   "cell_type": "markdown",
   "metadata": {},
   "source": [
    "## Memorias Asociativas\n",
    "\n",
    "Permite recuperar información a partir de conocimiento parcial de su contenido, sin saber su localización de almacenamiento. A veces también se le llama memoria de direccionamiento por contenido (content-adressable-memory).\n",
    "\n",
    "Los computadores tradicionales no usan este direccionamiento; se basan en el conocimiento exacto de la dirección de memoria en la que se encuentra la información. Sin embargo, se cree que el cerebro humano no actúa así. Si queremos recordar el nombre de una persona, no nos sirve saber que fue el nombre número 3274 que aprendimos. Es más útil saber que su nombre empieza y termina por 'N' y que es un famoso científico inglés. Con esta información, es casi seguro que recordaremos exitosamente a \"Newton\".\n",
    "\n",
    "Cuando la información que ingreso a la memoria asociativa es igual a la información que espero tener a la salida (pero con información faltante o parcialmente incorrecta) se dice que la memoria es autoasociativa.\n",
    "\n",
    "Ejemplo de memoria autoasociativa:\n",
    "\n",
    "Supongamos en este ejemplo que las variables de entrada solo pueden valer 1 o -1. La siguiente memoria autoasociativa tiene guardadas cuatro palabras de 7 bits a las que vamos a denominar $\\zeta_i$\n",
    "\n",
    "<img src=\"images/memo.png\" alt=\"drawing\" width=800px/> \n",
    "\n",
    "Cada vez que a la entrada de la memoria autoasociativa del ejemplo le asignemos un patrón $\\xi$, nuestra memoria nos dará a la salida el patrón $\\zeta$ que mas se parezca a nuestro patrón de entrada. Para ello tendremos que haber definido una medida de similitud. En nuestro ejemplo, asumiremos que es la distancia de Hamming,\n",
    "\n",
    "Nos centraremos en este tipo de memorias (autoasociativas)"
   ]
  },
  {
   "cell_type": "markdown",
   "metadata": {},
   "source": [
    "### Aplicaciones de memorias autoasociativas\n",
    "\n",
    "#### OCR (Optical Character Recognition)\n",
    "\n",
    "Nuestra memoria tiene almacenada un conjunto posible de caracteres. Cada vez que se ingresa a la memoria con un caracter defectuoso, la memoria devuelve el patrón de referencia almacenado que mas se le parezca. \n",
    "\n",
    "Ejemplo:\n",
    "\n",
    "<img src=\"images/OCR.png\" alt=\"drawing\" width=600px/> \n",
    "\n",
    "### Sistemas de recomendación \n",
    "\n",
    "Para este problema, la hipótesis es que las valoraciones de un usuario sobre un conjunto de productos u obras, es una manifestación ruidosa e incompleta de un patrón de referencia almacenado en la memoria autoasociativa.\n",
    "Cada bit de la memoria autoasociativa contiene una valoración positiva/negativa de un producto u obra. Por ejemplo:\n",
    "\n",
    "| Film: | El señor de los anillos | La caza del octubre rojo | La guerra de las galaxias | El acorazado Potemkin | Sex & The city | Lo que ellas quieren | Casablanca | Terminator | Mi primer beso |\n",
    "|-------------------|:-----------------------:|:------------------------:|:-------------------------:|:---------------------:|:--------------:|:--------------------:|:----------:|:----------:|:--------------:|\n",
    "| Tipo de usuario 1 | 1 | -1 | 1 | 1 | -1 | -1 | -1 | 1 | -1 |\n",
    "| Tipo de usuario 2 | 1 | -1 | -1 | -1 | 1 | 1 | 1 | -1 | 1 |\n",
    "| Tipo de usuario 3 | -1 | 1 | 1 | 1 | -1 | -1 | 1 | -1 | -1 |\n",
    "\n",
    "\n",
    "En la tabla se ven tres tipos de usuarios ideales. El primer tipo de usuario tiene preferencia por las películas de ciencia ficción y aventuras. El segundo tipo de usuario tiene preferencia por las comedias románticas y el tercer tipo de usuario tiene preferencia por las películas clásicas.\n",
    "Nótese lo que tiene almacenada la memoria autoasociativa es una idealización de algunos tipos de usuario posible, cada uno con preferencias distintas. Esta representación implica que las valoraciones de un usuario real particular, son una representación ruidosa y con datos faltantes de los gustos que representan los \"tipos de usuario\" los cuales son ideales.\n",
    "\n",
    "A partir de los gustos de un usuario real particular que podrían ser (el cero marca que el usuario no ingresó valoración sobre la película):\n",
    "\n",
    "\n",
    "| Film: | El señor de los anillos | La caza del octubre rojo | La guerra de las galaxias | El acorazado Potemkin | Sex & The city | Lo que ellas quieren | Casablanca | Terminator | Mi primer beso |\n",
    "|-------------------|:-----------------------:|:------------------------:|:-------------------------:|:---------------------:|:--------------:|:--------------------:|:----------:|:----------:|:--------------:|\n",
    "| Usuario real y mundano | 1 | 0 | 1 | 0 | -1 | 0 | 0 | 1 | -1 |\n",
    "\n",
    "La memoria autoasociativa me debería dar a su salida el tipo de usuario que mas se le parezca (En este caso el tipo de usuario 1):\n",
    "\n",
    "\n",
    "| Film: | El señor de los anillos | La caza del octubre rojo | La guerra de las galaxias | El acorazado Potemkin | Sex & The city | Lo que ellas quieren | Casablanca | Terminator | Mi primer beso |\n",
    "|-------------------|:-----------------------:|:------------------------:|:-------------------------:|:---------------------:|:--------------:|:--------------------:|:----------:|:----------:|:--------------:|\n",
    "| Entrada | 1 | 0 | 1 | 0 | -1 | 0 | 0 | 1 | -1 |\n",
    "| Salida | 1 | -1 | 1 | 1 | -1 | -1 | -1 | 1 | -1 |\n",
    "\n",
    "\n",
    "Más adelante veremos cómo inferir estos tipos de usuario \"ideales\" a partir de valoraciones de usuarios reales. Es decir, a partir de las manifestaciones \"ruidosas e incompletas\"."
   ]
  },
  {
   "cell_type": "markdown",
   "metadata": {},
   "source": [
    "Estos son algunos ejemplos de referencia de una memoria autoasociativa. Siendo que una forma de implementarlas es mediante las redes de Hopfield, procederemos a estudiarlas."
   ]
  },
  {
   "cell_type": "markdown",
   "metadata": {},
   "source": [
    "## Redes de Hopfield: Implementación de una memoria Autoasociativa"
   ]
  },
  {
   "cell_type": "markdown",
   "metadata": {},
   "source": [
    "**Variables de entrada (bits):** 1 y -1 (o 1 y 0)\n",
    "\n",
    "**Patrones de entrada:** palabras de N bits \n",
    "(Por ser una memoria autoasociativa la **salida** es una palabra de N bits también)\n",
    "\n",
    "**Definiciones:**\n",
    "- **𝑁**: 𝑇𝑎𝑚𝑎ñ𝑜 𝑒𝑛 𝑏𝑖𝑡𝑠 𝑑𝑒 𝑙𝑎 𝑒𝑛𝑡𝑟𝑎𝑑𝑎 𝑦 𝑙𝑎 𝑠𝑎𝑙𝑖𝑑𝑎\n",
    "- **𝜉**:𝑃𝑎𝑡𝑟ó𝑛 𝑑𝑒 𝑒𝑛𝑡𝑟𝑎𝑑𝑎\n",
    "- **𝜉_𝑖**:𝑏𝑖𝑡 𝑖 𝑑𝑒𝑙 𝑝𝑎𝑡𝑟ó𝑛 𝑑𝑒 𝑒𝑛𝑡𝑟𝑎𝑑𝑎 𝜉\n",
    "- **𝑆**:𝑃𝑎𝑡𝑟ó𝑛 𝑑𝑒 𝑠𝑎𝑙𝑖𝑑𝑎\n",
    "- **𝑆_𝑖**:𝑏𝑖𝑡 𝑖 𝑑𝑒𝑙 𝑝𝑎𝑡𝑟ó𝑛 𝑑𝑒 𝑠𝑎𝑙𝑖𝑑𝑎 𝑆\n",
    "- **𝜍**:𝑃𝑎𝑡𝑟𝑜𝑛𝑒𝑠 𝑑𝑒 𝑟𝑒𝑓𝑒𝑟𝑒𝑛𝑐𝑖𝑎\n",
    "- **P**: Cantidad de patrones de referencia\n",
    "- **𝜍^𝜇**:𝑃𝑎𝑡𝑟ó𝑛 𝑑𝑒 𝑟𝑒𝑓𝑒𝑟𝑒𝑛𝑐𝑖𝑎 𝑛ú𝑚𝑒𝑟𝑜 𝜇\n",
    "- **𝜍_𝑖^𝜇**:𝑏𝑖𝑡 𝑖 𝑑𝑒𝑙 𝑝𝑎𝑡𝑟ó𝑛 𝑑𝑒 𝑟𝑒𝑓𝑒𝑟𝑒𝑛𝑐𝑖𝑎〖 𝜍〗^𝜇"
   ]
  },
  {
   "cell_type": "markdown",
   "metadata": {},
   "source": [
    "La memoria se puede decir que guarda *Patrones de referencia* a partir de los cuales busca la solución.\n",
    "![captcha](images/memo.png)"
   ]
  },
  {
   "cell_type": "markdown",
   "metadata": {},
   "source": [
    "Podemos calcular la salida de la red de Hopfield como:\n",
    "\n",
    "$$ S_j = sign(\\sum_{i=1}^{N} w_{ij} \\xi_i) $$ \n",
    "\n",
    "![pinv](images/patroneinverso.png)"
   ]
  },
  {
   "cell_type": "code",
   "execution_count": 1,
   "metadata": {
    "ExecuteTime": {
     "end_time": "2018-05-08T19:53:05.430972Z",
     "start_time": "2018-05-08T19:53:04.534807Z"
    }
   },
   "outputs": [
    {
     "name": "stdout",
     "output_type": "stream",
     "text": [
      "[[ 1  1  1  1 -1 -1 -1]\n",
      " [ 1  1  1  1 -1 -1 -1]\n",
      " [ 1  1  1  1 -1 -1 -1]\n",
      " [ 1  1  1  1 -1 -1 -1]\n",
      " [-1 -1 -1 -1  1  1  1]\n",
      " [-1 -1 -1 -1  1  1  1]\n",
      " [-1 -1 -1 -1  1  1  1]]\n"
     ]
    }
   ],
   "source": [
    "import numpy as np\n",
    "from numpy import transpose as t\n",
    "\n",
    "P = np.array([[1, 1, 1, 1, -1, -1, -1]])\n",
    "W = P.T@P\n",
    "\n",
    "print(W)"
   ]
  },
  {
   "cell_type": "code",
   "execution_count": 3,
   "metadata": {
    "ExecuteTime": {
     "end_time": "2018-05-08T19:53:05.442971Z",
     "start_time": "2018-05-08T19:53:05.430972Z"
    },
    "collapsed": true
   },
   "outputs": [],
   "source": [
    "def getReference(P):\n",
    "    return np.sign(W@P.T).T"
   ]
  },
  {
   "cell_type": "code",
   "execution_count": 4,
   "metadata": {
    "ExecuteTime": {
     "end_time": "2018-05-08T19:53:05.510973Z",
     "start_time": "2018-05-08T19:53:05.502974Z"
    },
    "collapsed": true
   },
   "outputs": [],
   "source": [
    "def getMatrix(P):\n",
    "    return P.T@P"
   ]
  },
  {
   "cell_type": "code",
   "execution_count": 5,
   "metadata": {
    "ExecuteTime": {
     "end_time": "2018-05-08T19:53:06.233486Z",
     "start_time": "2018-05-08T19:53:06.205486Z"
    }
   },
   "outputs": [
    {
     "data": {
      "text/plain": [
       "True"
      ]
     },
     "execution_count": 5,
     "metadata": {},
     "output_type": "execute_result"
    }
   ],
   "source": [
    "Pc = np.array([[1, -1, 1, 1, -1, -1, -1]])\n",
    "(getReference(Pc) == P).all()"
   ]
  },
  {
   "cell_type": "code",
   "execution_count": 6,
   "metadata": {
    "ExecuteTime": {
     "end_time": "2018-05-08T19:53:06.757501Z",
     "start_time": "2018-05-08T19:53:06.745497Z"
    }
   },
   "outputs": [
    {
     "data": {
      "text/plain": [
       "False"
      ]
     },
     "execution_count": 6,
     "metadata": {},
     "output_type": "execute_result"
    }
   ],
   "source": [
    "Pc = np.array([[-1, -1, -1, 1, -1, 1, 1]])\n",
    "ref = getReference(Pc)\n",
    "(ref == P).all()"
   ]
  },
  {
   "cell_type": "markdown",
   "metadata": {},
   "source": [
    "### Almacenamiento de un patrón y su inverso\n",
    "En sistemas dinámicos un **atractor** es un conjunto de valores numéricos hacia los cuales un sistema tiende a evolucionar a partir de una amplia variedad de condiciones iniciales.\n",
    "\n",
    "Cuando calculamos la matriz W para que P sea un atractor, -P automáticamente queda definido como atractor también. \n",
    "\n",
    "**Cada vez que definimos a P como un patrón de referencia, -P también lo es.**\n",
    "\n",
    "![captcha](images/atractores.png)"
   ]
  },
  {
   "cell_type": "code",
   "execution_count": 7,
   "metadata": {
    "ExecuteTime": {
     "end_time": "2018-05-08T19:53:08.006040Z",
     "start_time": "2018-05-08T19:53:07.994040Z"
    }
   },
   "outputs": [
    {
     "data": {
      "text/plain": [
       "True"
      ]
     },
     "execution_count": 7,
     "metadata": {},
     "output_type": "execute_result"
    }
   ],
   "source": [
    "(ref != P).all()  # Para cada elemento, ref[i] != P[i]"
   ]
  },
  {
   "cell_type": "markdown",
   "metadata": {},
   "source": [
    "### Almacenamiento de varios Patrones de Referencia"
   ]
  },
  {
   "cell_type": "markdown",
   "metadata": {},
   "source": [
    "Cuando se desea almacenar varios patrones de referencia se suele usar:\n",
    "\n",
    "$ w_{i,j} = \\frac{1}{N} \\sum_{\\mu = 1}^P 𝜍_i^\\mu 𝜍_j^\\mu$\n",
    "\n",
    "Ésta ecuación se la denomina *Regla de Hebb* y es el promedio de la matriz de pesos para cada patrón por separado.\n",
    "\n",
    "Observar:\n",
    "- Si para distintos patrones de referencia, la correlación entre los bits i y j se mantiene, $𝜔_{𝑖,𝑗}$ tendrá un valor en módulo cercano a 1. \n",
    "- Si para distintos patrones de referencia, no hay correlación entre los bits i y j, $𝜔_{𝑖,𝑗}$ tendrá un valor en módulo cercano a 0.\n",
    "\n"
   ]
  },
  {
   "cell_type": "code",
   "execution_count": 8,
   "metadata": {
    "ExecuteTime": {
     "end_time": "2018-05-08T19:53:09.555966Z",
     "start_time": "2018-05-08T19:53:09.515965Z"
    },
    "collapsed": true
   },
   "outputs": [],
   "source": [
    "# Defino los patrones de referencia\n",
    "P1=np.array([[ 1,  1,   1,   1,   1,   1,   1]]);\n",
    "P2=np.array([[ 1,  1,   1,  -1,  -1,  -1,  -1]]);\n",
    "P3=np.array([[-1, -1,   1,   1,   1,   1,   1]]);\n",
    "P4=np.array([[ 1,  1,   1,  -1,  -1,   1,   1]]);\n",
    " \n",
    "# Armo la matriz de pesos\n",
    "W1 = getMatrix(P1);\n",
    "W2 = getMatrix(P2);\n",
    "W3 = getMatrix(P3);\n",
    "W4 = getMatrix(P4);\n",
    " \n",
    "W = (W1 + W2 + W3 + W4) / 4;"
   ]
  },
  {
   "cell_type": "code",
   "execution_count": 9,
   "metadata": {
    "ExecuteTime": {
     "end_time": "2018-05-08T19:53:10.088000Z",
     "start_time": "2018-05-08T19:53:10.072004Z"
    },
    "collapsed": true
   },
   "outputs": [],
   "source": [
    "def whichReference(P, ref_mat):\n",
    "    for i, p in enumerate(ref_mat):\n",
    "        if (getReference(P) == p).all():\n",
    "            sign = '-' if i > 3 else ''\n",
    "            num = str(i%4 + 1)\n",
    "            print(sign + 'P' + num)"
   ]
  },
  {
   "cell_type": "code",
   "execution_count": 10,
   "metadata": {
    "ExecuteTime": {
     "end_time": "2018-05-08T19:53:10.891937Z",
     "start_time": "2018-05-08T19:53:10.859937Z"
    }
   },
   "outputs": [
    {
     "name": "stdout",
     "output_type": "stream",
     "text": [
      "True\n",
      "True\n",
      "P2\n",
      "-P4\n"
     ]
    }
   ],
   "source": [
    "# Calculo la salida para P3 \n",
    "print((getReference(P3) == P3).all())\n",
    " \n",
    "# Calculo la salida para -P3 \n",
    "print((getReference(-P3) == -P3).all())\n",
    " \n",
    "Ptot = [P1, P2, P3, P4, -P1, -P2, -P3, -P4]\n",
    "# Calculo la salida para P2 con error en el bit 4\n",
    "Pc = np.array([[1, 1, 1, 1, -1, -1, -1]])\n",
    "whichReference(Pc, Ptot)\n",
    "        \n",
    "# Calculo la salida para -P4 con un error en el bit 3\n",
    "Pc = np.array([[-1, -1, 1, 1, 1, -1, -1]])\n",
    "whichReference(Pc, Ptot)"
   ]
  }
 ],
 "metadata": {
  "kernelspec": {
   "display_name": "Python 3",
   "language": "python",
   "name": "python3"
  },
  "language_info": {
   "codemirror_mode": {
    "name": "ipython",
    "version": 3
   },
   "file_extension": ".py",
   "mimetype": "text/x-python",
   "name": "python",
   "nbconvert_exporter": "python",
   "pygments_lexer": "ipython3",
   "version": "3.6.1"
  },
  "toc": {
   "colors": {
    "hover_highlight": "#DAA520",
    "navigate_num": "#000000",
    "navigate_text": "#333333",
    "running_highlight": "#FF0000",
    "selected_highlight": "#FFD700",
    "sidebar_border": "#EEEEEE",
    "wrapper_background": "#FFFFFF"
   },
   "moveMenuLeft": true,
   "nav_menu": {
    "height": "118px",
    "width": "252px"
   },
   "navigate_menu": true,
   "number_sections": true,
   "sideBar": true,
   "threshold": 4,
   "toc_cell": false,
   "toc_section_display": "block",
   "toc_window_display": false,
   "widenNotebook": false
  }
 },
 "nbformat": 4,
 "nbformat_minor": 2
}
