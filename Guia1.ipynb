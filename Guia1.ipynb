{
 "cells": [
  {
   "cell_type": "markdown",
   "metadata": {},
   "source": [
    "# Guia 1 Redes Neuronales #\n"
   ]
  },
  {
   "cell_type": "markdown",
   "metadata": {},
   "source": [
    "Realizar un clasificador bayesiano ingenuo gaussiano para clasificar el dataset de iris."
   ]
  },
  {
   "cell_type": "markdown",
   "metadata": {},
   "source": [
    "El dataset de Iris se trata de un conjunto de 150 flores, de las cuales se tienen mediciones del ancho y alto del sépalo y petalo, que fueron clasificadas en tres clases diferentes.\n",
    "Dada su relativa simpleza se convirtió en un problema típico de clasificadores en machine learning."
   ]
  },
  {
   "cell_type": "markdown",
   "metadata": {},
   "source": [
    "Los datos se pueden acceder en python de la siguiente forma usando la librería sklearn."
   ]
  },
  {
   "cell_type": "code",
   "execution_count": 12,
   "metadata": {},
   "outputs": [
    {
     "name": "stdout",
     "output_type": "stream",
     "text": [
      "Primer dato [ 5.1  3.5  1.4  0.2]\n",
      "Largo del sépalo 5.1 Ancho del sépalo 3.5 Largo del pétalo 1.4 Ancho del pétalo 0.2\n",
      "Clase del primer dato 0\n",
      "Largo del dataset 150\n"
     ]
    }
   ],
   "source": [
    "from sklearn import datasets\n",
    "iris = datasets.load_iris()\n",
    "#las mediciones se encuentran en iris.data\n",
    "print('Primer dato',iris.data[0])     #por ejemplo el primer dato\n",
    "print('Largo del sépalo',iris.data[0,0],'Ancho del sépalo',iris.data[0,1],'Largo del pétalo',iris.data[0,2],'Ancho del pétalo',iris.data[0,3])  #Primer dato accediendo a cada una de sus partes\n",
    "#las clases se encuentran en iris.target\n",
    "print('Clase del primer dato',iris.target[0]) #clase del primer dato\n",
    "N  = len(iris.data) #largo del dataset\n",
    "print('Largo del dataset',N)"
   ]
  }
 ],
 "metadata": {
  "kernelspec": {
   "display_name": "Python 3",
   "language": "python",
   "name": "python3"
  },
  "language_info": {
   "codemirror_mode": {
    "name": "ipython",
    "version": 3
   },
   "file_extension": ".py",
   "mimetype": "text/x-python",
   "name": "python",
   "nbconvert_exporter": "python",
   "pygments_lexer": "ipython3",
   "version": "3.5.4"
  }
 },
 "nbformat": 4,
 "nbformat_minor": 2
}
